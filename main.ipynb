{
 "cells": [
  {
   "cell_type": "markdown",
   "metadata": {},
   "source": [
    "### Mancala Reinforcement Learning Algorithm\n",
    "\n",
    "**things I need:**\n",
    "\n",
    "- an environment (mancala board)\n",
    "- a policy (epsilon greedy)\n",
    "- a value function (value of each state)\n",
    "- a model (predicts next state and reward)\n",
    "\n",
    "**procedure:**\n",
    "\n",
    "- make a q network\n",
    "- make a history of all states\n",
    "- calculate the reward\n",
    "- every 4 steps update the q network\n"
   ]
  },
  {
   "cell_type": "code",
   "execution_count": 36,
   "metadata": {},
   "outputs": [],
   "source": [
    "import numpy as np\n",
    "import matplotlib.pyplot as plt\n",
    "from typing import Tuple, List\n",
    "from enum import Enum"
   ]
  },
  {
   "cell_type": "code",
   "execution_count": 37,
   "metadata": {},
   "outputs": [],
   "source": [
    "class Activation(Enum):\n",
    "    RELU = 0\n",
    "    SIGMOID = 1\n",
    "\n",
    "class QLayer():\n",
    "    def __init__(self, input_size : int, output_size : int, activation : Activation):\n",
    "        self.output_size = output_size\n",
    "        self.input_size = input_size\n",
    "        self.W = np.random.rand(input_size, output_size) - 1\n",
    "        self.b = np.random.rand(output_size) - 1\n",
    "        self.x = None\n",
    "        self.z = None\n",
    "        self.a = None\n",
    "        self.activation = activation\n",
    "    \n",
    "    def forward(self, x) -> np.ndarray:\n",
    "        self.x = x\n",
    "        self.z = np.dot(x, self.W) + self.b\n",
    "        self.a = self.activate(self.z)\n",
    "        return self.a\n",
    "\n",
    "    def activate(self, z : np.ndarray) -> np.ndarray:\n",
    "        if (self.activation == Activation.RELU):\n",
    "            return np.maximum(0,z)\n",
    "        elif (self.activation == Activation.SIGMOID):\n",
    "            return 1 / (1 + np.exp(-z))"
   ]
  },
  {
   "cell_type": "code",
   "execution_count": 38,
   "metadata": {},
   "outputs": [],
   "source": [
    "\n",
    "class QNetwork():\n",
    "    def __init__(self, layers : List[QLayer], learning_rate: float):\n",
    "        self.layers = layers\n",
    "        self.learning_rate = learning_rate\n",
    "    \n",
    "    def forward(self, a : np.ndarray ):\n",
    "        '''returns the output from the forward propagation as a ndarray of size shapes[-1][1]'''\n",
    "        assert len(a) == self.layers[0].input_size\n",
    "        for i in range(len(self.layers)):\n",
    "            a = self.layers[i].forward(a)\n",
    "        return a\n",
    "    \n",
    "    def backward(self, y_true: np.ndarray, y_pred: np.ndarray):\n",
    "        # loop through the layers backwards and apply the correct gradients to weights along the way\n",
    "        # calculate gradient for the cost\n",
    "        gradient : np.ndarray = (y_pred - y_true) / y_pred.size\n",
    "        for layer in reversed(self.layers):\n",
    "            gradient = self.gradient(gradient, layer)\n",
    "\n",
    "    def gradient(self, gradient: np.ndarray, layer: QLayer) -> np.ndarray:\n",
    "        if (layer.activation == Activation.RELU):\n",
    "            gradient[layer.z <= 0] = 0\n",
    "        elif layer.activation == Activation.SIGMOID:\n",
    "            gradient *= layer.a * (1-layer.a)\n",
    "        \n",
    "        layer.W -= self.learning_rate * np.outer(layer.x, gradient)\n",
    "        layer.b -= self.learning_rate * gradient\n",
    "\n",
    "        return np.dot(layer.W, gradient)"
   ]
  },
  {
   "cell_type": "code",
   "execution_count": 39,
   "metadata": {},
   "outputs": [],
   "source": [
    "net = QNetwork([QLayer(14,64,Activation.RELU),\n",
    "                   QLayer(64,64,Activation.RELU),\n",
    "                   QLayer(64,6,Activation.SIGMOID)],\n",
    "                   learning_rate=0.01)"
   ]
  },
  {
   "cell_type": "code",
   "execution_count": 40,
   "metadata": {},
   "outputs": [],
   "source": [
    "class Agent():\n",
    "    def __init__(self):\n",
    "        self.q_a = QNetwork([(14,64), (64,64), (64,6)], \n",
    "                            [Activation.RELU, Activation.RELU, Activation.SIGMOID])\n",
    "        self.q_a = QNetwork([(14,64), (64,64), (64,6)], \n",
    "                            [Activation.RELU, Activation.RELU, Activation.SIGMOID])\n",
    "\n",
    "    def update(self):\n",
    "        # pass in the data and update the networks\n",
    "        return"
   ]
  },
  {
   "cell_type": "code",
   "execution_count": 62,
   "metadata": {},
   "outputs": [],
   "source": [
    "class MancalaBoard():\n",
    "    def __init__(self):\n",
    "        self.reset()\n",
    "\n",
    "    def reset(self):\n",
    "        self.board : np.array = np.array([4,4,4,4,4,4,0,4,4,4,4,4,4,0])\n",
    "        self.player : int = 0\n",
    "        self.turn : int = 0\n",
    "        self.last_action : int = 0\n",
    "        self.last_action_taken_by : int = 0\n",
    "        self.gameOver : bool = False\n",
    "\n",
    "    def __str__(self):\n",
    "        game = f\"Player: {self.last_action_taken_by}, Turn: {self.turn}, Action: {self.last_action}\\n\\n\"\n",
    "        game += f\"Pieces: {np.sum(self.board)}\\n\"\n",
    "        game += \"________________\\n\"\n",
    "        game += f\"|      {self.board[13]}      |\\n\"\n",
    "        for i in range(0, 6):\n",
    "            game += f\"|  {self.board[i]}   |   {self.board[12 - i]}  |\\n\"\n",
    "        game += f\"|      {self.board[6]}      |\\n\"\n",
    "        game += \"________________\\n\"\n",
    "        return game\n",
    "\n",
    "    def move(self, action : int):\n",
    "        self.turn+=1\n",
    "        self.last_action = action\n",
    "        self.last_action_taken_by = self.player\n",
    "        pieces : int = self.board[action]\n",
    "        goal_i : int = 6 if self.player == 0 else 13\n",
    "        skip : int = 13 if self.player == 0 else 6\n",
    "        board_copy = self.board.copy()\n",
    "        # move all the pieces around the board\n",
    "        self.board[action] = 0\n",
    "        dest_i = (action) % 14\n",
    "        for i in range(pieces):\n",
    "            dest_i = (dest_i + 1) % 14\n",
    "            # don't put in your opponent's goal\n",
    "            if (dest_i == skip):\n",
    "                dest_i = (dest_i + 1) % 14\n",
    "            self.board[dest_i] += 1\n",
    "        # if you landed on an empty square on your side, move all pieces to your goal\n",
    "        if (self.board[dest_i] == 1 and self.board[12 - dest_i] > 0 and ((dest_i < 6 and self.player == 0) or (dest_i >= 7 and dest_i < 13 and self.player == 1))):\n",
    "            self.board[goal_i] += self.board[dest_i] + self.board[12-dest_i]\n",
    "            self.board[dest_i] = 0\n",
    "            self.board[12-dest_i] = 0\n",
    "        # if you land on your goal, go again\n",
    "        if (dest_i != goal_i): \n",
    "            self.player = 0 if self.player == 1 else 1\n",
    "        ### game over cases ###\n",
    "        # one side becomes empty\n",
    "        if (np.sum(self.board[0:6]) == 0 ):\n",
    "            for i in range(7,13):\n",
    "                self.board[13] += self.board[i]\n",
    "                self.board[i] = 0\n",
    "            self.gameOver = True\n",
    "        elif (np.sum(self.board[7:13]) == 0):\n",
    "            for i in range(0, 6):\n",
    "                self.board[6] += self.board[i]\n",
    "                self.board[i] = 0\n",
    "            self.gameOver = True\n",
    "        # return the experience data\n",
    "        return self.board.copy(), self._getReward(self.player, board_copy), self.gameOver\n",
    "        \n",
    "\n",
    "    def _getReward(self, player : int, old_board : np.ndarray):\n",
    "        your_score : int = self.board[13] if player == 1 else self.board[6]\n",
    "        their_score : int = self.board[6] if player == 0 else self.board[13]\n",
    "        if (self.gameOver):\n",
    "            return 5 if your_score > their_score else -5\n",
    "        else:\n",
    "            your_old_score : int = old_board[13] if player == 1 else old_board[6]\n",
    "            their_old_score : int = old_board[6] if player == 0 else old_board[13]\n",
    "            return (your_score - your_old_score) - 0.5 * (their_score - their_old_score)\n",
    "\n",
    "        \n",
    "\n",
    "        "
   ]
  },
  {
   "cell_type": "code",
   "execution_count": 65,
   "metadata": {},
   "outputs": [],
   "source": [
    "iter = 100000\n",
    "epsilon = 1.0\n",
    "epsilon_decay_rate = 0.999\n",
    "min_epsilon = 0.01\n",
    "discount_factor = 0.99\n",
    "q_net = QNetwork([QLayer(14,64,Activation.RELU),\n",
    "                   QLayer(64,64,Activation.RELU),\n",
    "                   QLayer(64,6,Activation.SIGMOID)],\n",
    "                   learning_rate=0.01)"
   ]
  },
  {
   "cell_type": "code",
   "execution_count": 66,
   "metadata": {},
   "outputs": [
    {
     "name": "stdout",
     "output_type": "stream",
     "text": [
      "iter: 0, cost: 0.06976499580103464\n",
      "iter: 1000, cost: 0.05099050004596209\n",
      "iter: 2000, cost: 0.050867364395969034\n",
      "iter: 3000, cost: 0.04387722310850644\n",
      "iter: 4000, cost: 2.0336592005303284\n",
      "iter: 5000, cost: 1.8991759599737765\n",
      "iter: 6000, cost: 0.08036922077082681\n",
      "iter: 7000, cost: 2.289779095953117\n",
      "iter: 8000, cost: 0.05245847198924803\n",
      "iter: 9000, cost: 0.06786898668588531\n"
     ]
    },
    {
     "data": {
      "image/png": "[encoded data removed]",
      "text/plain": [
       "<Figure size 432x288 with 1 Axes>"
      ]
     },
     "metadata": {
      "needs_background": "light"
     },
     "output_type": "display_data"
    }
   ],
   "source": [
    "env = MancalaBoard()\n",
    "cost_hist = []\n",
    "for i in range(iter):\n",
    "    env.reset()\n",
    "    game_over = False\n",
    "    ave_cost = 0.0\n",
    "    while not game_over:\n",
    "        state = env.board\n",
    "    # choose an action with epsilon greedy\n",
    "        if (env.player == 0):\n",
    "            rand_e = np.random.rand()\n",
    "            q_pred = q_net.forward(state)\n",
    "            if (rand_e < epsilon):\n",
    "                valid_indices = np.where(state[:6] > 0)[0]\n",
    "                action = np.random.choice(valid_indices)\n",
    "            else:\n",
    "                action = np.argmax(np.where(state[:6] > 0, q_pred, 0))\n",
    "            # get the new state from the action\n",
    "            new_state, reward, game_over = env.move(action)\n",
    "            q_target_max = reward + discount_factor * np.max(q_net.forward(new_state))\n",
    "            q_target = q_pred.copy()\n",
    "            q_target[action] = q_target_max\n",
    "            cost = np.sum(np.square(q_pred - q_target)) / (2*q_pred.size)\n",
    "            ave_cost += cost\n",
    "            # if (cost > 200):\n",
    "            #     print(f'reward: {reward}')\n",
    "            #     print(f'q_target_max:  {q_target_max}')\n",
    "            #     print(f'q_pred:  {np.max(q_pred)}')\n",
    "            #     print(env)\n",
    "            # backpropagate\n",
    "            q_net.backward(q_target, q_pred)\n",
    "        else:\n",
    "            valid = False\n",
    "            while not valid:\n",
    "                action = np.random.randint(7,13)\n",
    "                valid = state[action] > 0\n",
    "            new_state, reward, game_over = env.move(action)\n",
    "        epsilon = max(min_epsilon, epsilon * epsilon_decay_rate)\n",
    "        cost_hist.append(ave_cost.mean())\n",
    "\n",
    "    # iteration over\n",
    "    # if (i % 10 == 0):\n",
    "    if (i % 1000 == 0):\n",
    "        print(f'iter: {i}, cost: {ave_cost}')\n",
    "\n",
    "    # plot cost_hist as a line chart\n",
    "plt.plot(cost_hist)\n",
    "plt.xlabel('Iteration')\n",
    "plt.ylabel('Cost')\n",
    "plt.title('Cost History')\n",
    "plt.show()\n",
    "\n",
    "\n",
    "    \n"
   ]
  },
  {
   "cell_type": "code",
   "execution_count": 24,
   "metadata": {},
   "outputs": [
    {
     "name": "stdout",
     "output_type": "stream",
     "text": [
      "0.01\n"
     ]
    }
   ],
   "source": [
    "print(epsilon)"
   ]
  },
  {
   "cell_type": "code",
   "execution_count": 157,
   "metadata": {},
   "outputs": [],
   "source": [
    "class Simulation():\n",
    "    def __init__(self):\n",
    "        self.board = MancalaBoard()\n",
    "        self.player1 = QNetwork()\n",
    "        self.player2 = QNetwork()\n"
   ]
  },
  {
   "cell_type": "code",
   "execution_count": null,
   "metadata": {},
   "outputs": [],
   "source": []
  }
 ],
 "metadata": {
  "kernelspec": {
   "display_name": "base",
   "language": "python",
   "name": "python3"
  },
  "language_info": {
   "codemirror_mode": {
    "name": "ipython",
    "version": 3
   },
   "file_extension": ".py",
   "mimetype": "text/x-python",
   "name": "python",
   "nbconvert_exporter": "python",
   "pygments_lexer": "ipython3",
   "version": "3.8.11"
  }
 },
 "nbformat": 4,
 "nbformat_minor": 2
}
